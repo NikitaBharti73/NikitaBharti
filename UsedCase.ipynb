{
 "cells": [
  {
   "cell_type": "markdown",
   "metadata": {
    "application/vnd.databricks.v1+cell": {
     "cellMetadata": {},
     "inputWidgets": {},
     "nuid": "34ade305-8907-4741-94f9-61b889879958",
     "showTitle": false,
     "tableResultSettingsMap": {},
     "title": ""
    }
   },
   "source": [
    "# Data Reading"
   ]
  },
  {
   "cell_type": "code",
   "execution_count": 0,
   "metadata": {
    "application/vnd.databricks.v1+cell": {
     "cellMetadata": {
      "byteLimit": 2048000,
      "rowLimit": 10000
     },
     "inputWidgets": {},
     "nuid": "5c9a5070-fd2d-469b-80ce-7b711ccbcd10",
     "showTitle": false,
     "tableResultSettingsMap": {},
     "title": ""
    }
   },
   "outputs": [
    {
     "output_type": "display_data",
     "data": {
      "text/html": [
       "<style scoped>\n",
       "  .table-result-container {\n",
       "    max-height: 300px;\n",
       "    overflow: auto;\n",
       "  }\n",
       "  table, th, td {\n",
       "    border: 1px solid black;\n",
       "    border-collapse: collapse;\n",
       "  }\n",
       "  th, td {\n",
       "    padding: 5px;\n",
       "  }\n",
       "  th {\n",
       "    text-align: left;\n",
       "  }\n",
       "</style><div class='table-result-container'><table class='table-result'><thead style='background-color: white'><tr><th>customer_id</th><th>customer_name</th><th>city</th><th>hotel_id</th><th>hotel_name</th><th>booking_id</th><th>location</th><th>booking_date</th><th>stay_duration</th><th>amount_spent</th><th>status</th><th>rating</th></tr></thead><tbody><tr><td>C001</td><td>Aditi Sharma</td><td>Delhi</td><td>H001</td><td>Grand Palace</td><td>B001</td><td>Connaught</td><td>2025-01-05</td><td>3</td><td>12000</td><td>Booked</td><td>4</td></tr><tr><td>C002</td><td>Raj Verma</td><td>Mumbai</td><td>H002</td><td>Sea Breeze Hotel</td><td>B002</td><td>Juhu</td><td>2025-01-06</td><td>2</td><td>8500</td><td>Cancelled</td><td>NULL</td></tr><tr><td>C003</td><td>Priya Nair</td><td>Bangalore</td><td>H003</td><td>Garden View</td><td>B003</td><td>MG Road</td><td>2025-01-07</td><td>4</td><td>15000</td><td>Booked</td><td>5</td></tr><tr><td>C004</td><td>Arjun Mehta</td><td>Delhi</td><td>H004</td><td>City Comfort Inn</td><td>B004</td><td>Karol Bagh</td><td>2025-01-08</td><td>1</td><td>4000</td><td>Booked</td><td>3</td></tr><tr><td>C005</td><td>Kavya Rao</td><td>Hyderabad</td><td>H005</td><td>Pearl Residency</td><td>B005</td><td>Banjara</td><td>2025-01-09</td><td>2</td><td>7000</td><td>Cancelled</td><td>NULL</td></tr><tr><td>C006</td><td>Mohit Singh</td><td>Mumbai</td><td>H006</td><td>Ocean View</td><td>B006</td><td>Bandra</td><td>2025-01-10</td><td>3</td><td>10000</td><td>Booked</td><td>4</td></tr><tr><td>C007</td><td>Neha Gupta</td><td>Delhi</td><td>H001</td><td>Grand Palace</td><td>B007</td><td>Connaught</td><td>2025-01-12</td><td>5</td><td>20000</td><td>Booked</td><td>5</td></tr><tr><td>C008</td><td>Rohit Kumar</td><td>Bangalore</td><td>H003</td><td>Garden View</td><td>B008</td><td>MG Road</td><td>2025-01-13</td><td>2</td><td>7500</td><td>Cancelled</td><td>NULL</td></tr><tr><td>C009</td><td>Simran Kaur</td><td>Mumbai</td><td>H002</td><td>Sea Breeze Hotel</td><td>B009</td><td>Juhu</td><td>2025-01-14</td><td>3</td><td>11000</td><td>Booked</td><td>4</td></tr><tr><td>C010</td><td>Aditya Jain</td><td>Hyderabad</td><td>H005</td><td>Pearl Residency</td><td>B010</td><td>Banjara</td><td>2025-01-15</td><td>1</td><td>3500</td><td>Booked</td><td>3</td></tr><tr><td>C011</td><td>Tanvi Malhotra</td><td>Delhi</td><td>H004</td><td>City Comfort Inn</td><td>B011</td><td>Karol Bagh</td><td>2025-01-16</td><td>2</td><td>6000</td><td>Booked</td><td>4</td></tr><tr><td>C012</td><td>Saurabh Das</td><td>Bangalore</td><td>H007</td><td>Silicon Stay</td><td>B012</td><td>Whitefield</td><td>2025-01-17</td><td>4</td><td>16000</td><td>Cancelled</td><td>NULL</td></tr><tr><td>C013</td><td>Isha Reddy</td><td>Hyderabad</td><td>H008</td><td>Charminar Suites</td><td>B013</td><td>Hitech</td><td>2025-01-18</td><td>3</td><td>10500</td><td>Booked</td><td>5</td></tr><tr><td>C014</td><td>Kunal Patel</td><td>Mumbai</td><td>H006</td><td>Ocean View</td><td>B014</td><td>Bandra</td><td>2025-01-20</td><td>2</td><td>7500</td><td>Booked</td><td>4</td></tr><tr><td>C015</td><td>Meera Joshi</td><td>Delhi</td><td>H004</td><td>City Comfort Inn</td><td>B015</td><td>Karol Bagh</td><td>2025-01-21</td><td>1</td><td>3500</td><td>Cancelled</td><td>NULL</td></tr><tr><td>C016</td><td>Arnav Kapoor</td><td>Bangalore</td><td>H007</td><td>Silicon Stay</td><td>B016</td><td>Whitefield</td><td>2025-01-22</td><td>5</td><td>18000</td><td>Booked</td><td>5</td></tr><tr><td>C017</td><td>Riya Sen</td><td>Mumbai</td><td>H002</td><td>Sea Breeze Hotel</td><td>B017</td><td>Juhu</td><td>2025-01-23</td><td>2</td><td>8200</td><td>Booked</td><td>3</td></tr><tr><td>C018</td><td>Vivek Mishra</td><td>Delhi</td><td>H001</td><td>Grand Palace</td><td>B018</td><td>Connaught</td><td>2025-01-24</td><td>4</td><td>15000</td><td>Booked</td><td>4</td></tr><tr><td>C019</td><td>Ananya Iyer</td><td>Hyderabad</td><td>H008</td><td>Charminar Suites</td><td>B019</td><td>Hitech</td><td>2025-01-25</td><td>3</td><td>10800</td><td>Cancelled</td><td>NULL</td></tr><tr><td>C020</td><td>Manish Yadav</td><td>Bangalore</td><td>H003</td><td>Garden View</td><td>B020</td><td>MG Road</td><td>2025-01-26</td><td>2</td><td>7000</td><td>Booked</td><td>3</td></tr></tbody></table></div>"
      ]
     },
     "metadata": {
      "application/vnd.databricks.v1+output": {
       "addedWidgets": {},
       "aggData": [],
       "aggError": "",
       "aggOverflow": false,
       "aggSchema": [],
       "aggSeriesLimitReached": false,
       "aggType": "",
       "arguments": {},
       "columnCustomDisplayInfos": {},
       "data": [
        [
         "C001",
         "Aditi Sharma",
         "Delhi",
         "H001",
         "Grand Palace",
         "B001",
         "Connaught",
         "2025-01-05",
         3,
         12000,
         "Booked",
         "4"
        ],
        [
         "C002",
         "Raj Verma",
         "Mumbai",
         "H002",
         "Sea Breeze Hotel",
         "B002",
         "Juhu",
         "2025-01-06",
         2,
         8500,
         "Cancelled",
         "NULL"
        ],
        [
         "C003",
         "Priya Nair",
         "Bangalore",
         "H003",
         "Garden View",
         "B003",
         "MG Road",
         "2025-01-07",
         4,
         15000,
         "Booked",
         "5"
        ],
        [
         "C004",
         "Arjun Mehta",
         "Delhi",
         "H004",
         "City Comfort Inn",
         "B004",
         "Karol Bagh",
         "2025-01-08",
         1,
         4000,
         "Booked",
         "3"
        ],
        [
         "C005",
         "Kavya Rao",
         "Hyderabad",
         "H005",
         "Pearl Residency",
         "B005",
         "Banjara",
         "2025-01-09",
         2,
         7000,
         "Cancelled",
         "NULL"
        ],
        [
         "C006",
         "Mohit Singh",
         "Mumbai",
         "H006",
         "Ocean View",
         "B006",
         "Bandra",
         "2025-01-10",
         3,
         10000,
         "Booked",
         "4"
        ],
        [
         "C007",
         "Neha Gupta",
         "Delhi",
         "H001",
         "Grand Palace",
         "B007",
         "Connaught",
         "2025-01-12",
         5,
         20000,
         "Booked",
         "5"
        ],
        [
         "C008",
         "Rohit Kumar",
         "Bangalore",
         "H003",
         "Garden View",
         "B008",
         "MG Road",
         "2025-01-13",
         2,
         7500,
         "Cancelled",
         "NULL"
        ],
        [
         "C009",
         "Simran Kaur",
         "Mumbai",
         "H002",
         "Sea Breeze Hotel",
         "B009",
         "Juhu",
         "2025-01-14",
         3,
         11000,
         "Booked",
         "4"
        ],
        [
         "C010",
         "Aditya Jain",
         "Hyderabad",
         "H005",
         "Pearl Residency",
         "B010",
         "Banjara",
         "2025-01-15",
         1,
         3500,
         "Booked",
         "3"
        ],
        [
         "C011",
         "Tanvi Malhotra",
         "Delhi",
         "H004",
         "City Comfort Inn",
         "B011",
         "Karol Bagh",
         "2025-01-16",
         2,
         6000,
         "Booked",
         "4"
        ],
        [
         "C012",
         "Saurabh Das",
         "Bangalore",
         "H007",
         "Silicon Stay",
         "B012",
         "Whitefield",
         "2025-01-17",
         4,
         16000,
         "Cancelled",
         "NULL"
        ],
        [
         "C013",
         "Isha Reddy",
         "Hyderabad",
         "H008",
         "Charminar Suites",
         "B013",
         "Hitech",
         "2025-01-18",
         3,
         10500,
         "Booked",
         "5"
        ],
        [
         "C014",
         "Kunal Patel",
         "Mumbai",
         "H006",
         "Ocean View",
         "B014",
         "Bandra",
         "2025-01-20",
         2,
         7500,
         "Booked",
         "4"
        ],
        [
         "C015",
         "Meera Joshi",
         "Delhi",
         "H004",
         "City Comfort Inn",
         "B015",
         "Karol Bagh",
         "2025-01-21",
         1,
         3500,
         "Cancelled",
         "NULL"
        ],
        [
         "C016",
         "Arnav Kapoor",
         "Bangalore",
         "H007",
         "Silicon Stay",
         "B016",
         "Whitefield",
         "2025-01-22",
         5,
         18000,
         "Booked",
         "5"
        ],
        [
         "C017",
         "Riya Sen",
         "Mumbai",
         "H002",
         "Sea Breeze Hotel",
         "B017",
         "Juhu",
         "2025-01-23",
         2,
         8200,
         "Booked",
         "3"
        ],
        [
         "C018",
         "Vivek Mishra",
         "Delhi",
         "H001",
         "Grand Palace",
         "B018",
         "Connaught",
         "2025-01-24",
         4,
         15000,
         "Booked",
         "4"
        ],
        [
         "C019",
         "Ananya Iyer",
         "Hyderabad",
         "H008",
         "Charminar Suites",
         "B019",
         "Hitech",
         "2025-01-25",
         3,
         10800,
         "Cancelled",
         "NULL"
        ],
        [
         "C020",
         "Manish Yadav",
         "Bangalore",
         "H003",
         "Garden View",
         "B020",
         "MG Road",
         "2025-01-26",
         2,
         7000,
         "Booked",
         "3"
        ]
       ],
       "datasetInfos": [],
       "dbfsResultPath": null,
       "isJsonSchema": true,
       "metadata": {},
       "overflow": false,
       "plotOptions": {
        "customPlotOptions": {},
        "displayType": "table",
        "pivotAggregation": null,
        "pivotColumns": null,
        "xColumns": null,
        "yColumns": null
       },
       "removedWidgets": [],
       "schema": [
        {
         "metadata": "{}",
         "name": "customer_id",
         "type": "\"string\""
        },
        {
         "metadata": "{}",
         "name": "customer_name",
         "type": "\"string\""
        },
        {
         "metadata": "{}",
         "name": "city",
         "type": "\"string\""
        },
        {
         "metadata": "{}",
         "name": "hotel_id",
         "type": "\"string\""
        },
        {
         "metadata": "{}",
         "name": "hotel_name",
         "type": "\"string\""
        },
        {
         "metadata": "{}",
         "name": "booking_id",
         "type": "\"string\""
        },
        {
         "metadata": "{}",
         "name": "location",
         "type": "\"string\""
        },
        {
         "metadata": "{\"__detected_date_formats\": \"d-M-yyyy\"}",
         "name": "booking_date",
         "type": "\"date\""
        },
        {
         "metadata": "{}",
         "name": "stay_duration",
         "type": "\"long\""
        },
        {
         "metadata": "{}",
         "name": "amount_spent",
         "type": "\"long\""
        },
        {
         "metadata": "{}",
         "name": "status",
         "type": "\"string\""
        },
        {
         "metadata": "{}",
         "name": "rating",
         "type": "\"string\""
        }
       ],
       "type": "table"
      }
     },
     "output_type": "display_data"
    }
   ],
   "source": [
    "hotel_df = spark.table(\"bigdata.default.hoteldata\")\n",
    "display(hotel_df)"
   ]
  },
  {
   "cell_type": "markdown",
   "metadata": {
    "application/vnd.databricks.v1+cell": {
     "cellMetadata": {},
     "inputWidgets": {},
     "nuid": "9c347212-4a50-4ab9-91e5-c4d0fe0530f9",
     "showTitle": false,
     "tableResultSettingsMap": {},
     "title": ""
    }
   },
   "source": [
    "# Calculation of Metrics for PySparkCore- 1.Compute Total Revenue per Hotel"
   ]
  },
  {
   "cell_type": "code",
   "execution_count": 0,
   "metadata": {
    "application/vnd.databricks.v1+cell": {
     "cellMetadata": {
      "byteLimit": 2048000,
      "rowLimit": 10000
     },
     "inputWidgets": {},
     "nuid": "065f99c7-015c-46dc-ad73-4f8004fd42e2",
     "showTitle": false,
     "tableResultSettingsMap": {},
     "title": ""
    }
   },
   "outputs": [
    {
     "output_type": "display_data",
     "data": {
      "text/html": [
       "<style scoped>\n",
       "  .table-result-container {\n",
       "    max-height: 300px;\n",
       "    overflow: auto;\n",
       "  }\n",
       "  table, th, td {\n",
       "    border: 1px solid black;\n",
       "    border-collapse: collapse;\n",
       "  }\n",
       "  th, td {\n",
       "    padding: 5px;\n",
       "  }\n",
       "  th {\n",
       "    text-align: left;\n",
       "  }\n",
       "</style><div class='table-result-container'><table class='table-result'><thead style='background-color: white'><tr><th>hotel_id</th><th>hotel_name</th><th>total_revenue</th></tr></thead><tbody><tr><td>H004</td><td>City Comfort Inn</td><td>10000</td></tr><tr><td>H001</td><td>Grand Palace</td><td>47000</td></tr><tr><td>H003</td><td>Garden View</td><td>22000</td></tr><tr><td>H008</td><td>Charminar Suites</td><td>10500</td></tr><tr><td>H006</td><td>Ocean View</td><td>17500</td></tr><tr><td>H007</td><td>Silicon Stay</td><td>18000</td></tr><tr><td>H005</td><td>Pearl Residency</td><td>3500</td></tr><tr><td>H002</td><td>Sea Breeze Hotel</td><td>19200</td></tr></tbody></table></div>"
      ]
     },
     "metadata": {
      "application/vnd.databricks.v1+output": {
       "addedWidgets": {},
       "aggData": [],
       "aggError": "",
       "aggOverflow": false,
       "aggSchema": [],
       "aggSeriesLimitReached": false,
       "aggType": "",
       "arguments": {},
       "columnCustomDisplayInfos": {},
       "data": [
        [
         "H004",
         "City Comfort Inn",
         10000
        ],
        [
         "H001",
         "Grand Palace",
         47000
        ],
        [
         "H003",
         "Garden View",
         22000
        ],
        [
         "H008",
         "Charminar Suites",
         10500
        ],
        [
         "H006",
         "Ocean View",
         17500
        ],
        [
         "H007",
         "Silicon Stay",
         18000
        ],
        [
         "H005",
         "Pearl Residency",
         3500
        ],
        [
         "H002",
         "Sea Breeze Hotel",
         19200
        ]
       ],
       "datasetInfos": [],
       "dbfsResultPath": null,
       "isJsonSchema": true,
       "metadata": {},
       "overflow": false,
       "plotOptions": {
        "customPlotOptions": {},
        "displayType": "table",
        "pivotAggregation": null,
        "pivotColumns": null,
        "xColumns": null,
        "yColumns": null
       },
       "removedWidgets": [],
       "schema": [
        {
         "metadata": "{}",
         "name": "hotel_id",
         "type": "\"string\""
        },
        {
         "metadata": "{}",
         "name": "hotel_name",
         "type": "\"string\""
        },
        {
         "metadata": "{}",
         "name": "total_revenue",
         "type": "\"long\""
        }
       ],
       "type": "table"
      }
     },
     "output_type": "display_data"
    },
    {
     "output_type": "display_data",
     "data": {
      "text/plain": [
       "Databricks visualization. Run in Databricks to view."
      ]
     },
     "metadata": {
      "application/vnd.databricks.v1.subcommand+json": {
       "baseErrorDetails": null,
       "bindings": {},
       "collapsed": false,
       "command": "%python\n__backend_agg_display_orig = display\n__backend_agg_dfs = []\ndef __backend_agg_display_new(df):\n    __backend_agg_df_modules = [\"pandas.core.frame\", \"databricks.koalas.frame\", \"pyspark.sql.dataframe\", \"pyspark.pandas.frame\", \"pyspark.sql.connect.dataframe\"]\n    if (type(df).__module__ in __backend_agg_df_modules and type(df).__name__ == 'DataFrame') or isinstance(df, list):\n        __backend_agg_dfs.append(df)\n\ndisplay = __backend_agg_display_new\n\ndef __backend_agg_user_code_fn():\n    import base64\n    exec(base64.standard_b64decode(\"ZnJvbSBweXNwYXJrLnNxbC5mdW5jdGlvbnMgaW1wb3J0IGNvbCwgc3VtIGFzIF9zdW0KCiMgRmlsdGVyIG9ubHkgQm9va2VkIHN0YXR1cyBhbmQgY2FsY3VsYXRlIHJldmVudWUgcGVyIGhvdGVsCnJldmVudWVfcGVyX2hvdGVsID0gKAogICAgaG90ZWxfZGYuZmlsdGVyKGNvbCgic3RhdHVzIikgPT0gIkJvb2tlZCIpCiAgICAgIC5ncm91cEJ5KCJob3RlbF9pZCIsICJob3RlbF9uYW1lIikKICAgICAgLmFnZyhfc3VtKCJhbW91bnRfc3BlbnQiKS5hbGlhcygidG90YWxfcmV2ZW51ZSIpKQopCgojIFNob3cgcmVzdWx0cwpkaXNwbGF5KHJldmVudWVfcGVyX2hvdGVsKQo=\").decode())\n\ntry:\n    # run user code\n    __backend_agg_user_code_fn()\n\n    #reset display function\n    display = __backend_agg_display_orig\n\n    if len(__backend_agg_dfs) > 0:\n        # create a temp view\n        if type(__backend_agg_dfs[0]).__module__ == \"databricks.koalas.frame\":\n            # koalas dataframe\n            __backend_agg_dfs[0].to_spark().createOrReplaceTempView(\"DatabricksViewd25cdc3\")\n        elif type(__backend_agg_dfs[0]).__module__ == \"pandas.core.frame\" or isinstance(__backend_agg_dfs[0], list):\n            # pandas dataframe\n            spark.createDataFrame(__backend_agg_dfs[0]).createOrReplaceTempView(\"DatabricksViewd25cdc3\")\n        else:\n            __backend_agg_dfs[0].createOrReplaceTempView(\"DatabricksViewd25cdc3\")\n        #run backend agg\n        display(spark.sql(\"\"\"WITH q AS (select * from DatabricksViewd25cdc3) SELECT `hotel_id`,`hotel_name`,SUM(`total_revenue`) `column_5151b166113` FROM q GROUP BY `hotel_id`,`hotel_name`\"\"\"))\n    else:\n        displayHTML(\"dataframe no longer exists. If you're using dataframe.display(), use display(dataframe) instead.\")\n\n\nfinally:\n    spark.sql(\"drop view if exists DatabricksViewd25cdc3\")\n    display = __backend_agg_display_orig\n    del __backend_agg_display_new\n    del __backend_agg_display_orig\n    del __backend_agg_dfs\n    del __backend_agg_user_code_fn\n\n",
       "commandTitle": "Visualization 1",
       "commandType": "auto",
       "commandVersion": 0,
       "commentThread": [],
       "commentsVisible": false,
       "contentSha256Hex": null,
       "customPlotOptions": {
        "redashChart": [
         {
          "key": "type",
          "value": "CHART"
         },
         {
          "key": "options",
          "value": {
           "alignYAxesAtZero": true,
           "coefficient": 1,
           "columnConfigurationMap": {
            "series": {
             "column": "hotel_name",
             "id": "column_5151b166112"
            },
            "x": {
             "column": "hotel_name",
             "id": "column_5151b166116"
            },
            "y": [
             {
              "column": "total_revenue",
              "id": "column_5151b166113",
              "transform": "SUM"
             }
            ]
           },
           "dateTimeFormat": "DD/MM/YYYY HH:mm",
           "direction": {
            "type": "counterclockwise"
           },
           "error_y": {
            "type": "data",
            "visible": true
           },
           "globalSeriesType": "column",
           "isAggregationOn": true,
           "legend": {
            "traceorder": "normal"
           },
           "missingValuesAsZero": true,
           "numberFormat": "0,0.[00000]",
           "percentFormat": "0[.]00%",
           "series": {
            "error_y": {
             "type": "data",
             "visible": true
            },
            "stacking": "stack"
           },
           "seriesOptions": {
            "column_5151b166113": {
             "name": "total_revenue",
             "yAxis": 0
            }
           },
           "showDataLabels": false,
           "sizemode": "diameter",
           "sortX": true,
           "sortY": true,
           "swappedAxes": true,
           "textFormat": "",
           "useAggregationsUi": true,
           "valuesOptions": {},
           "version": 2,
           "xAxis": {
            "labels": {
             "enabled": true
            },
            "type": "-"
           },
           "yAxis": [
            {
             "type": "-"
            },
            {
             "opposite": true,
             "type": "-"
            }
           ]
          }
         }
        ]
       },
       "datasetPreviewNameToCmdIdMap": {},
       "diffDeletes": [],
       "diffInserts": [],
       "displayType": "redashChart",
       "error": null,
       "errorDetails": null,
       "errorSummary": null,
       "errorTraceType": null,
       "finishTime": 0,
       "globalVars": {},
       "guid": "",
       "height": "auto",
       "hideCommandCode": false,
       "hideCommandResult": false,
       "iPythonMetadata": null,
       "inputWidgets": {},
       "isLockedInExamMode": false,
       "latestUser": "a user",
       "latestUserId": null,
       "listResultMetadata": null,
       "metadata": {},
       "nuid": "30dbd03a-81a8-4758-a494-c25a7ce5b3c8",
       "origId": 0,
       "parentHierarchy": [],
       "pivotAggregation": null,
       "pivotColumns": null,
       "position": 5.0,
       "resultDbfsErrorMessage": null,
       "resultDbfsStatus": "INLINED_IN_TREE",
       "results": null,
       "showCommandTitle": false,
       "startTime": 0,
       "state": "input",
       "streamStates": {},
       "subcommandOptions": {
        "queryPlan": {
         "groups": [
          {
           "column": "hotel_name",
           "type": "column"
          },
          {
           "column": "hotel_name",
           "type": "column"
          }
         ],
         "selects": [
          {
           "column": "hotel_name",
           "type": "column"
          },
          {
           "column": "hotel_name",
           "type": "column"
          },
          {
           "alias": "column_5151b166113",
           "args": [
            {
             "column": "total_revenue",
             "type": "column"
            }
           ],
           "function": "SUM",
           "type": "function"
          }
         ]
        }
       },
       "submitTime": 0,
       "subtype": "tableResultSubCmd.visualization",
       "tableResultIndex": 0,
       "tableResultSettingsMap": {},
       "useConsistentColors": false,
       "version": "CommandV1",
       "width": "auto",
       "workflows": [],
       "xColumns": null,
       "yColumns": null
      }
     },
     "output_type": "display_data"
    }
   ],
   "source": [
    "from pyspark.sql.functions import col, sum as _sum\n",
    "\n",
    "# Filter only Booked status and calculate revenue per hotel\n",
    "revenue_per_hotel = (\n",
    "    hotel_df.filter(col(\"status\") == \"Booked\")\n",
    "      .groupBy(\"hotel_id\", \"hotel_name\")\n",
    "      .agg(_sum(\"amount_spent\").alias(\"total_revenue\"))\n",
    ")\n",
    "\n",
    "# Show results\n",
    "display(revenue_per_hotel)\n"
   ]
  },
  {
   "cell_type": "markdown",
   "metadata": {
    "application/vnd.databricks.v1+cell": {
     "cellMetadata": {},
     "inputWidgets": {},
     "nuid": "f55a8317-8d3e-4475-a441-d544f99b30bf",
     "showTitle": false,
     "tableResultSettingsMap": {},
     "title": ""
    }
   },
   "source": [
    "# 2. Calculate Average Stay duration by location"
   ]
  },
  {
   "cell_type": "code",
   "execution_count": 0,
   "metadata": {
    "application/vnd.databricks.v1+cell": {
     "cellMetadata": {
      "byteLimit": 2048000,
      "rowLimit": 10000
     },
     "inputWidgets": {},
     "nuid": "46fd3b23-733e-49f5-b9cc-3e320be23415",
     "showTitle": false,
     "tableResultSettingsMap": {},
     "title": ""
    }
   },
   "outputs": [
    {
     "output_type": "display_data",
     "data": {
      "text/html": [
       "<style scoped>\n",
       "  .table-result-container {\n",
       "    max-height: 300px;\n",
       "    overflow: auto;\n",
       "  }\n",
       "  table, th, td {\n",
       "    border: 1px solid black;\n",
       "    border-collapse: collapse;\n",
       "  }\n",
       "  th, td {\n",
       "    padding: 5px;\n",
       "  }\n",
       "  th {\n",
       "    text-align: left;\n",
       "  }\n",
       "</style><div class='table-result-container'><table class='table-result'><thead style='background-color: white'><tr><th>location</th><th>avg_stay_duration</th></tr></thead><tbody><tr><td>Hitech</td><td>3.0</td></tr><tr><td>Whitefield</td><td>5.0</td></tr><tr><td>Connaught</td><td>4.0</td></tr><tr><td>Juhu</td><td>2.5</td></tr><tr><td>MG Road</td><td>3.0</td></tr><tr><td>Karol Bagh</td><td>1.5</td></tr><tr><td>Banjara</td><td>1.0</td></tr><tr><td>Bandra</td><td>2.5</td></tr></tbody></table></div>"
      ]
     },
     "metadata": {
      "application/vnd.databricks.v1+output": {
       "addedWidgets": {},
       "aggData": [],
       "aggError": "",
       "aggOverflow": false,
       "aggSchema": [],
       "aggSeriesLimitReached": false,
       "aggType": "",
       "arguments": {},
       "columnCustomDisplayInfos": {},
       "data": [
        [
         "Hitech",
         3.0
        ],
        [
         "Whitefield",
         5.0
        ],
        [
         "Connaught",
         4.0
        ],
        [
         "Juhu",
         2.5
        ],
        [
         "MG Road",
         3.0
        ],
        [
         "Karol Bagh",
         1.5
        ],
        [
         "Banjara",
         1.0
        ],
        [
         "Bandra",
         2.5
        ]
       ],
       "datasetInfos": [],
       "dbfsResultPath": null,
       "isJsonSchema": true,
       "metadata": {},
       "overflow": false,
       "plotOptions": {
        "customPlotOptions": {},
        "displayType": "table",
        "pivotAggregation": null,
        "pivotColumns": null,
        "xColumns": null,
        "yColumns": null
       },
       "removedWidgets": [],
       "schema": [
        {
         "metadata": "{}",
         "name": "location",
         "type": "\"string\""
        },
        {
         "metadata": "{}",
         "name": "avg_stay_duration",
         "type": "\"double\""
        }
       ],
       "type": "table"
      }
     },
     "output_type": "display_data"
    },
    {
     "output_type": "display_data",
     "data": {
      "text/plain": [
       "Databricks visualization. Run in Databricks to view."
      ]
     },
     "metadata": {
      "application/vnd.databricks.v1.subcommand+json": {
       "baseErrorDetails": null,
       "bindings": {},
       "collapsed": false,
       "command": "%python\n__backend_agg_display_orig = display\n__backend_agg_dfs = []\ndef __backend_agg_display_new(df):\n    __backend_agg_df_modules = [\"pandas.core.frame\", \"databricks.koalas.frame\", \"pyspark.sql.dataframe\", \"pyspark.pandas.frame\", \"pyspark.sql.connect.dataframe\"]\n    if (type(df).__module__ in __backend_agg_df_modules and type(df).__name__ == 'DataFrame') or isinstance(df, list):\n        __backend_agg_dfs.append(df)\n\ndisplay = __backend_agg_display_new\n\ndef __backend_agg_user_code_fn():\n    import base64\n    exec(base64.standard_b64decode(\"ZnJvbSBweXNwYXJrLnNxbC5mdW5jdGlvbnMgaW1wb3J0IGNvbCwgYXZnCgojIENhbGN1bGF0ZSBhdmVyYWdlIHN0YXkgZHVyYXRpb24gcGVyIGxvY2F0aW9uCmF2Z19zdGF5X2J5X2xvY2F0aW9uID0gKAogICAgaG90ZWxfZGYuZmlsdGVyKGNvbCgic3RhdHVzIikgPT0gIkJvb2tlZCIpICAgIyBPbmx5IGNvbnNpZGVyIHN1Y2Nlc3NmdWwgYm9va2luZ3MKICAgICAgLmdyb3VwQnkoImxvY2F0aW9uIikKICAgICAgLmFnZyhhdmcoInN0YXlfZHVyYXRpb24iKS5hbGlhcygiYXZnX3N0YXlfZHVyYXRpb24iKSkKKQoKIyBTaG93IHJlc3VsdHMKZGlzcGxheShhdmdfc3RheV9ieV9sb2NhdGlvbikK\").decode())\n\ntry:\n    # run user code\n    __backend_agg_user_code_fn()\n\n    #reset display function\n    display = __backend_agg_display_orig\n\n    if len(__backend_agg_dfs) > 0:\n        # create a temp view\n        if type(__backend_agg_dfs[0]).__module__ == \"databricks.koalas.frame\":\n            # koalas dataframe\n            __backend_agg_dfs[0].to_spark().createOrReplaceTempView(\"DatabricksView3be9703\")\n        elif type(__backend_agg_dfs[0]).__module__ == \"pandas.core.frame\" or isinstance(__backend_agg_dfs[0], list):\n            # pandas dataframe\n            spark.createDataFrame(__backend_agg_dfs[0]).createOrReplaceTempView(\"DatabricksView3be9703\")\n        else:\n            __backend_agg_dfs[0].createOrReplaceTempView(\"DatabricksView3be9703\")\n        #run backend agg\n        display(spark.sql(\"\"\"WITH q AS (select * from DatabricksView3be9703) SELECT `location`,SUM(`avg_stay_duration`) `column_5151b166118` FROM q GROUP BY `location`\"\"\"))\n    else:\n        displayHTML(\"dataframe no longer exists. If you're using dataframe.display(), use display(dataframe) instead.\")\n\n\nfinally:\n    spark.sql(\"drop view if exists DatabricksView3be9703\")\n    display = __backend_agg_display_orig\n    del __backend_agg_display_new\n    del __backend_agg_display_orig\n    del __backend_agg_dfs\n    del __backend_agg_user_code_fn\n\n",
       "commandTitle": "Visualization 1",
       "commandType": "auto",
       "commandVersion": 0,
       "commentThread": [],
       "commentsVisible": false,
       "contentSha256Hex": null,
       "customPlotOptions": {
        "redashChart": [
         {
          "key": "type",
          "value": "CHART"
         },
         {
          "key": "options",
          "value": {
           "alignYAxesAtZero": true,
           "coefficient": 1,
           "columnConfigurationMap": {
            "x": {
             "column": "location",
             "id": "column_5151b166117"
            },
            "y": [
             {
              "column": "avg_stay_duration",
              "id": "column_5151b166118",
              "transform": "SUM"
             }
            ]
           },
           "dateTimeFormat": "DD/MM/YYYY HH:mm",
           "direction": {
            "type": "counterclockwise"
           },
           "error_y": {
            "type": "data",
            "visible": true
           },
           "globalSeriesType": "column",
           "legend": {
            "traceorder": "normal"
           },
           "missingValuesAsZero": true,
           "numberFormat": "0,0.[00000]",
           "percentFormat": "0[.]00%",
           "series": {
            "error_y": {
             "type": "data",
             "visible": true
            },
            "stacking": null
           },
           "seriesOptions": {
            "column_5151b166118": {
             "name": "avg_stay_duration",
             "type": "column",
             "yAxis": 0
            }
           },
           "showDataLabels": false,
           "sizemode": "diameter",
           "sortX": true,
           "sortY": true,
           "swappedAxes": false,
           "textFormat": "",
           "useAggregationsUi": true,
           "valuesOptions": {},
           "version": 2,
           "xAxis": {
            "labels": {
             "enabled": true
            },
            "type": "-"
           },
           "yAxis": [
            {
             "type": "-"
            },
            {
             "opposite": true,
             "type": "-"
            }
           ]
          }
         }
        ]
       },
       "datasetPreviewNameToCmdIdMap": {},
       "diffDeletes": [],
       "diffInserts": [],
       "displayType": "redashChart",
       "error": null,
       "errorDetails": null,
       "errorSummary": null,
       "errorTraceType": null,
       "finishTime": 0,
       "globalVars": {},
       "guid": "",
       "height": "auto",
       "hideCommandCode": false,
       "hideCommandResult": false,
       "iPythonMetadata": null,
       "inputWidgets": {},
       "isLockedInExamMode": false,
       "latestUser": "a user",
       "latestUserId": null,
       "listResultMetadata": null,
       "metadata": {},
       "nuid": "d2597ea1-5b2e-49cc-a689-c65ac2d65070",
       "origId": 0,
       "parentHierarchy": [],
       "pivotAggregation": null,
       "pivotColumns": null,
       "position": 6.0,
       "resultDbfsErrorMessage": null,
       "resultDbfsStatus": "INLINED_IN_TREE",
       "results": null,
       "showCommandTitle": false,
       "startTime": 0,
       "state": "input",
       "streamStates": {},
       "subcommandOptions": {
        "queryPlan": {
         "groups": [
          {
           "column": "location",
           "type": "column"
          }
         ],
         "selects": [
          {
           "column": "location",
           "type": "column"
          },
          {
           "alias": "column_5151b166118",
           "args": [
            {
             "column": "avg_stay_duration",
             "type": "column"
            }
           ],
           "function": "SUM",
           "type": "function"
          }
         ]
        }
       },
       "submitTime": 0,
       "subtype": "tableResultSubCmd.visualization",
       "tableResultIndex": 0,
       "tableResultSettingsMap": {},
       "useConsistentColors": false,
       "version": "CommandV1",
       "width": "auto",
       "workflows": [],
       "xColumns": null,
       "yColumns": null
      }
     },
     "output_type": "display_data"
    }
   ],
   "source": [
    "from pyspark.sql.functions import col, avg\n",
    "\n",
    "# Calculate average stay duration per location\n",
    "avg_stay_by_location = (\n",
    "    hotel_df.filter(col(\"status\") == \"Booked\")   # Only consider successful bookings\n",
    "      .groupBy(\"location\")\n",
    "      .agg(avg(\"stay_duration\").alias(\"avg_stay_duration\"))\n",
    ")\n",
    "\n",
    "# Show results\n",
    "display(avg_stay_by_location)\n"
   ]
  },
  {
   "cell_type": "markdown",
   "metadata": {
    "application/vnd.databricks.v1+cell": {
     "cellMetadata": {
      "byteLimit": 2048000,
      "rowLimit": 10000
     },
     "inputWidgets": {},
     "nuid": "0a74d381-9c9a-4d87-83c6-13ebd0d89ae1",
     "showTitle": false,
     "tableResultSettingsMap": {},
     "title": ""
    }
   },
   "source": [
    "# PySparl SQL - Read Data"
   ]
  },
  {
   "cell_type": "code",
   "execution_count": 0,
   "metadata": {
    "application/vnd.databricks.v1+cell": {
     "cellMetadata": {
      "byteLimit": 2048000,
      "implicitDf": true,
      "rowLimit": 10000
     },
     "inputWidgets": {},
     "nuid": "cdb4036b-9e9f-446c-9611-5d1fdbe997c1",
     "showTitle": false,
     "tableResultSettingsMap": {},
     "title": ""
    }
   },
   "outputs": [
    {
     "output_type": "display_data",
     "data": {
      "text/html": [
       "<style scoped>\n",
       "  .table-result-container {\n",
       "    max-height: 300px;\n",
       "    overflow: auto;\n",
       "  }\n",
       "  table, th, td {\n",
       "    border: 1px solid black;\n",
       "    border-collapse: collapse;\n",
       "  }\n",
       "  th, td {\n",
       "    padding: 5px;\n",
       "  }\n",
       "  th {\n",
       "    text-align: left;\n",
       "  }\n",
       "</style><div class='table-result-container'><table class='table-result'><thead style='background-color: white'><tr><th>customer_id</th><th>customer_name</th><th>city</th><th>hotel_id</th><th>hotel_name</th><th>booking_id</th><th>location</th><th>booking_date</th><th>stay_duration</th><th>amount_spent</th><th>status</th><th>rating</th></tr></thead><tbody><tr><td>C001</td><td>Aditi Sharma</td><td>Delhi</td><td>H001</td><td>Grand Palace</td><td>B001</td><td>Connaught</td><td>2025-01-05</td><td>3</td><td>12000</td><td>Booked</td><td>4</td></tr><tr><td>C002</td><td>Raj Verma</td><td>Mumbai</td><td>H002</td><td>Sea Breeze Hotel</td><td>B002</td><td>Juhu</td><td>2025-01-06</td><td>2</td><td>8500</td><td>Cancelled</td><td>NULL</td></tr><tr><td>C003</td><td>Priya Nair</td><td>Bangalore</td><td>H003</td><td>Garden View</td><td>B003</td><td>MG Road</td><td>2025-01-07</td><td>4</td><td>15000</td><td>Booked</td><td>5</td></tr><tr><td>C004</td><td>Arjun Mehta</td><td>Delhi</td><td>H004</td><td>City Comfort Inn</td><td>B004</td><td>Karol Bagh</td><td>2025-01-08</td><td>1</td><td>4000</td><td>Booked</td><td>3</td></tr><tr><td>C005</td><td>Kavya Rao</td><td>Hyderabad</td><td>H005</td><td>Pearl Residency</td><td>B005</td><td>Banjara</td><td>2025-01-09</td><td>2</td><td>7000</td><td>Cancelled</td><td>NULL</td></tr><tr><td>C006</td><td>Mohit Singh</td><td>Mumbai</td><td>H006</td><td>Ocean View</td><td>B006</td><td>Bandra</td><td>2025-01-10</td><td>3</td><td>10000</td><td>Booked</td><td>4</td></tr><tr><td>C007</td><td>Neha Gupta</td><td>Delhi</td><td>H001</td><td>Grand Palace</td><td>B007</td><td>Connaught</td><td>2025-01-12</td><td>5</td><td>20000</td><td>Booked</td><td>5</td></tr><tr><td>C008</td><td>Rohit Kumar</td><td>Bangalore</td><td>H003</td><td>Garden View</td><td>B008</td><td>MG Road</td><td>2025-01-13</td><td>2</td><td>7500</td><td>Cancelled</td><td>NULL</td></tr><tr><td>C009</td><td>Simran Kaur</td><td>Mumbai</td><td>H002</td><td>Sea Breeze Hotel</td><td>B009</td><td>Juhu</td><td>2025-01-14</td><td>3</td><td>11000</td><td>Booked</td><td>4</td></tr><tr><td>C010</td><td>Aditya Jain</td><td>Hyderabad</td><td>H005</td><td>Pearl Residency</td><td>B010</td><td>Banjara</td><td>2025-01-15</td><td>1</td><td>3500</td><td>Booked</td><td>3</td></tr><tr><td>C011</td><td>Tanvi Malhotra</td><td>Delhi</td><td>H004</td><td>City Comfort Inn</td><td>B011</td><td>Karol Bagh</td><td>2025-01-16</td><td>2</td><td>6000</td><td>Booked</td><td>4</td></tr><tr><td>C012</td><td>Saurabh Das</td><td>Bangalore</td><td>H007</td><td>Silicon Stay</td><td>B012</td><td>Whitefield</td><td>2025-01-17</td><td>4</td><td>16000</td><td>Cancelled</td><td>NULL</td></tr><tr><td>C013</td><td>Isha Reddy</td><td>Hyderabad</td><td>H008</td><td>Charminar Suites</td><td>B013</td><td>Hitech</td><td>2025-01-18</td><td>3</td><td>10500</td><td>Booked</td><td>5</td></tr><tr><td>C014</td><td>Kunal Patel</td><td>Mumbai</td><td>H006</td><td>Ocean View</td><td>B014</td><td>Bandra</td><td>2025-01-20</td><td>2</td><td>7500</td><td>Booked</td><td>4</td></tr><tr><td>C015</td><td>Meera Joshi</td><td>Delhi</td><td>H004</td><td>City Comfort Inn</td><td>B015</td><td>Karol Bagh</td><td>2025-01-21</td><td>1</td><td>3500</td><td>Cancelled</td><td>NULL</td></tr><tr><td>C016</td><td>Arnav Kapoor</td><td>Bangalore</td><td>H007</td><td>Silicon Stay</td><td>B016</td><td>Whitefield</td><td>2025-01-22</td><td>5</td><td>18000</td><td>Booked</td><td>5</td></tr><tr><td>C017</td><td>Riya Sen</td><td>Mumbai</td><td>H002</td><td>Sea Breeze Hotel</td><td>B017</td><td>Juhu</td><td>2025-01-23</td><td>2</td><td>8200</td><td>Booked</td><td>3</td></tr><tr><td>C018</td><td>Vivek Mishra</td><td>Delhi</td><td>H001</td><td>Grand Palace</td><td>B018</td><td>Connaught</td><td>2025-01-24</td><td>4</td><td>15000</td><td>Booked</td><td>4</td></tr><tr><td>C019</td><td>Ananya Iyer</td><td>Hyderabad</td><td>H008</td><td>Charminar Suites</td><td>B019</td><td>Hitech</td><td>2025-01-25</td><td>3</td><td>10800</td><td>Cancelled</td><td>NULL</td></tr><tr><td>C020</td><td>Manish Yadav</td><td>Bangalore</td><td>H003</td><td>Garden View</td><td>B020</td><td>MG Road</td><td>2025-01-26</td><td>2</td><td>7000</td><td>Booked</td><td>3</td></tr></tbody></table></div>"
      ]
     },
     "metadata": {
      "application/vnd.databricks.v1+output": {
       "addedWidgets": {},
       "aggData": [],
       "aggError": "",
       "aggOverflow": false,
       "aggSchema": [],
       "aggSeriesLimitReached": false,
       "aggType": "",
       "arguments": {},
       "columnCustomDisplayInfos": {},
       "data": [
        [
         "C001",
         "Aditi Sharma",
         "Delhi",
         "H001",
         "Grand Palace",
         "B001",
         "Connaught",
         "2025-01-05",
         3,
         12000,
         "Booked",
         "4"
        ],
        [
         "C002",
         "Raj Verma",
         "Mumbai",
         "H002",
         "Sea Breeze Hotel",
         "B002",
         "Juhu",
         "2025-01-06",
         2,
         8500,
         "Cancelled",
         "NULL"
        ],
        [
         "C003",
         "Priya Nair",
         "Bangalore",
         "H003",
         "Garden View",
         "B003",
         "MG Road",
         "2025-01-07",
         4,
         15000,
         "Booked",
         "5"
        ],
        [
         "C004",
         "Arjun Mehta",
         "Delhi",
         "H004",
         "City Comfort Inn",
         "B004",
         "Karol Bagh",
         "2025-01-08",
         1,
         4000,
         "Booked",
         "3"
        ],
        [
         "C005",
         "Kavya Rao",
         "Hyderabad",
         "H005",
         "Pearl Residency",
         "B005",
         "Banjara",
         "2025-01-09",
         2,
         7000,
         "Cancelled",
         "NULL"
        ],
        [
         "C006",
         "Mohit Singh",
         "Mumbai",
         "H006",
         "Ocean View",
         "B006",
         "Bandra",
         "2025-01-10",
         3,
         10000,
         "Booked",
         "4"
        ],
        [
         "C007",
         "Neha Gupta",
         "Delhi",
         "H001",
         "Grand Palace",
         "B007",
         "Connaught",
         "2025-01-12",
         5,
         20000,
         "Booked",
         "5"
        ],
        [
         "C008",
         "Rohit Kumar",
         "Bangalore",
         "H003",
         "Garden View",
         "B008",
         "MG Road",
         "2025-01-13",
         2,
         7500,
         "Cancelled",
         "NULL"
        ],
        [
         "C009",
         "Simran Kaur",
         "Mumbai",
         "H002",
         "Sea Breeze Hotel",
         "B009",
         "Juhu",
         "2025-01-14",
         3,
         11000,
         "Booked",
         "4"
        ],
        [
         "C010",
         "Aditya Jain",
         "Hyderabad",
         "H005",
         "Pearl Residency",
         "B010",
         "Banjara",
         "2025-01-15",
         1,
         3500,
         "Booked",
         "3"
        ],
        [
         "C011",
         "Tanvi Malhotra",
         "Delhi",
         "H004",
         "City Comfort Inn",
         "B011",
         "Karol Bagh",
         "2025-01-16",
         2,
         6000,
         "Booked",
         "4"
        ],
        [
         "C012",
         "Saurabh Das",
         "Bangalore",
         "H007",
         "Silicon Stay",
         "B012",
         "Whitefield",
         "2025-01-17",
         4,
         16000,
         "Cancelled",
         "NULL"
        ],
        [
         "C013",
         "Isha Reddy",
         "Hyderabad",
         "H008",
         "Charminar Suites",
         "B013",
         "Hitech",
         "2025-01-18",
         3,
         10500,
         "Booked",
         "5"
        ],
        [
         "C014",
         "Kunal Patel",
         "Mumbai",
         "H006",
         "Ocean View",
         "B014",
         "Bandra",
         "2025-01-20",
         2,
         7500,
         "Booked",
         "4"
        ],
        [
         "C015",
         "Meera Joshi",
         "Delhi",
         "H004",
         "City Comfort Inn",
         "B015",
         "Karol Bagh",
         "2025-01-21",
         1,
         3500,
         "Cancelled",
         "NULL"
        ],
        [
         "C016",
         "Arnav Kapoor",
         "Bangalore",
         "H007",
         "Silicon Stay",
         "B016",
         "Whitefield",
         "2025-01-22",
         5,
         18000,
         "Booked",
         "5"
        ],
        [
         "C017",
         "Riya Sen",
         "Mumbai",
         "H002",
         "Sea Breeze Hotel",
         "B017",
         "Juhu",
         "2025-01-23",
         2,
         8200,
         "Booked",
         "3"
        ],
        [
         "C018",
         "Vivek Mishra",
         "Delhi",
         "H001",
         "Grand Palace",
         "B018",
         "Connaught",
         "2025-01-24",
         4,
         15000,
         "Booked",
         "4"
        ],
        [
         "C019",
         "Ananya Iyer",
         "Hyderabad",
         "H008",
         "Charminar Suites",
         "B019",
         "Hitech",
         "2025-01-25",
         3,
         10800,
         "Cancelled",
         "NULL"
        ],
        [
         "C020",
         "Manish Yadav",
         "Bangalore",
         "H003",
         "Garden View",
         "B020",
         "MG Road",
         "2025-01-26",
         2,
         7000,
         "Booked",
         "3"
        ]
       ],
       "datasetInfos": [
        {
         "name": "_sqldf",
         "schema": {
          "fields": [
           {
            "metadata": {},
            "name": "customer_id",
            "nullable": true,
            "type": "string"
           },
           {
            "metadata": {},
            "name": "customer_name",
            "nullable": true,
            "type": "string"
           },
           {
            "metadata": {},
            "name": "city",
            "nullable": true,
            "type": "string"
           },
           {
            "metadata": {},
            "name": "hotel_id",
            "nullable": true,
            "type": "string"
           },
           {
            "metadata": {},
            "name": "hotel_name",
            "nullable": true,
            "type": "string"
           },
           {
            "metadata": {},
            "name": "booking_id",
            "nullable": true,
            "type": "string"
           },
           {
            "metadata": {},
            "name": "location",
            "nullable": true,
            "type": "string"
           },
           {
            "metadata": {
             "__detected_date_formats": "d-M-yyyy"
            },
            "name": "booking_date",
            "nullable": true,
            "type": "date"
           },
           {
            "metadata": {},
            "name": "stay_duration",
            "nullable": true,
            "type": "long"
           },
           {
            "metadata": {},
            "name": "amount_spent",
            "nullable": true,
            "type": "long"
           },
           {
            "metadata": {},
            "name": "status",
            "nullable": true,
            "type": "string"
           },
           {
            "metadata": {},
            "name": "rating",
            "nullable": true,
            "type": "string"
           }
          ],
          "type": "struct"
         },
         "tableIdentifier": null,
         "typeStr": "pyspark.sql.connect.dataframe.DataFrame"
        }
       ],
       "dbfsResultPath": null,
       "isJsonSchema": true,
       "metadata": {
        "createTempViewForImplicitDf": true,
        "dataframeName": "_sqldf",
        "executionCount": 23
       },
       "overflow": false,
       "plotOptions": {
        "customPlotOptions": {},
        "displayType": "table",
        "pivotAggregation": null,
        "pivotColumns": null,
        "xColumns": null,
        "yColumns": null
       },
       "removedWidgets": [],
       "schema": [
        {
         "metadata": "{}",
         "name": "customer_id",
         "type": "\"string\""
        },
        {
         "metadata": "{}",
         "name": "customer_name",
         "type": "\"string\""
        },
        {
         "metadata": "{}",
         "name": "city",
         "type": "\"string\""
        },
        {
         "metadata": "{}",
         "name": "hotel_id",
         "type": "\"string\""
        },
        {
         "metadata": "{}",
         "name": "hotel_name",
         "type": "\"string\""
        },
        {
         "metadata": "{}",
         "name": "booking_id",
         "type": "\"string\""
        },
        {
         "metadata": "{}",
         "name": "location",
         "type": "\"string\""
        },
        {
         "metadata": "{\"__detected_date_formats\": \"d-M-yyyy\"}",
         "name": "booking_date",
         "type": "\"date\""
        },
        {
         "metadata": "{}",
         "name": "stay_duration",
         "type": "\"long\""
        },
        {
         "metadata": "{}",
         "name": "amount_spent",
         "type": "\"long\""
        },
        {
         "metadata": "{}",
         "name": "status",
         "type": "\"string\""
        },
        {
         "metadata": "{}",
         "name": "rating",
         "type": "\"string\""
        }
       ],
       "type": "table"
      }
     },
     "output_type": "display_data"
    }
   ],
   "source": [
    "%sql\n",
    "SELECT * FROM bigdata.default.hoteldata;\n"
   ]
  },
  {
   "cell_type": "markdown",
   "metadata": {
    "application/vnd.databricks.v1+cell": {
     "cellMetadata": {},
     "inputWidgets": {},
     "nuid": "0b1bfc27-a2c1-4116-9a0e-f7baa25860ba",
     "showTitle": false,
     "tableResultSettingsMap": {},
     "title": ""
    }
   },
   "source": [
    "# 1. Identify Hotels with the highest cancellation Rates"
   ]
  },
  {
   "cell_type": "code",
   "execution_count": 0,
   "metadata": {
    "application/vnd.databricks.v1+cell": {
     "cellMetadata": {
      "byteLimit": 2048000,
      "implicitDf": true,
      "rowLimit": 10000
     },
     "inputWidgets": {},
     "nuid": "764780b2-8212-4ae6-9423-d8764c13dd65",
     "showTitle": false,
     "tableResultSettingsMap": {},
     "title": ""
    }
   },
   "outputs": [
    {
     "output_type": "display_data",
     "data": {
      "text/html": [
       "<style scoped>\n",
       "  .table-result-container {\n",
       "    max-height: 300px;\n",
       "    overflow: auto;\n",
       "  }\n",
       "  table, th, td {\n",
       "    border: 1px solid black;\n",
       "    border-collapse: collapse;\n",
       "  }\n",
       "  th, td {\n",
       "    padding: 5px;\n",
       "  }\n",
       "  th {\n",
       "    text-align: left;\n",
       "  }\n",
       "</style><div class='table-result-container'><table class='table-result'><thead style='background-color: white'><tr><th>hotel_name</th><th>cancellation_count</th></tr></thead><tbody><tr><td>Sea Breeze Hotel</td><td>1</td></tr><tr><td>Silicon Stay</td><td>1</td></tr><tr><td>Pearl Residency</td><td>1</td></tr><tr><td>Charminar Suites</td><td>1</td></tr><tr><td>City Comfort Inn</td><td>1</td></tr><tr><td>Garden View</td><td>1</td></tr></tbody></table></div>"
      ]
     },
     "metadata": {
      "application/vnd.databricks.v1+output": {
       "addedWidgets": {},
       "aggData": [],
       "aggError": "",
       "aggOverflow": false,
       "aggSchema": [],
       "aggSeriesLimitReached": false,
       "aggType": "",
       "arguments": {},
       "columnCustomDisplayInfos": {},
       "data": [
        [
         "Sea Breeze Hotel",
         1
        ],
        [
         "Silicon Stay",
         1
        ],
        [
         "Pearl Residency",
         1
        ],
        [
         "Charminar Suites",
         1
        ],
        [
         "City Comfort Inn",
         1
        ],
        [
         "Garden View",
         1
        ]
       ],
       "datasetInfos": [
        {
         "name": "_sqldf",
         "schema": {
          "fields": [
           {
            "metadata": {},
            "name": "hotel_name",
            "nullable": true,
            "type": "string"
           },
           {
            "metadata": {},
            "name": "cancellation_count",
            "nullable": false,
            "type": "long"
           }
          ],
          "type": "struct"
         },
         "tableIdentifier": null,
         "typeStr": "pyspark.sql.connect.dataframe.DataFrame"
        }
       ],
       "dbfsResultPath": null,
       "isJsonSchema": true,
       "metadata": {
        "createTempViewForImplicitDf": true,
        "dataframeName": "_sqldf",
        "executionCount": 44
       },
       "overflow": false,
       "plotOptions": {
        "customPlotOptions": {},
        "displayType": "table",
        "pivotAggregation": null,
        "pivotColumns": null,
        "xColumns": null,
        "yColumns": null
       },
       "removedWidgets": [],
       "schema": [
        {
         "metadata": "{}",
         "name": "hotel_name",
         "type": "\"string\""
        },
        {
         "metadata": "{}",
         "name": "cancellation_count",
         "type": "\"long\""
        }
       ],
       "type": "table"
      }
     },
     "output_type": "display_data"
    },
    {
     "output_type": "display_data",
     "data": {
      "text/plain": [
       "Databricks visualization. Run in Databricks to view."
      ]
     },
     "metadata": {
      "application/vnd.databricks.v1.subcommand+json": {
       "baseErrorDetails": null,
       "bindings": {},
       "collapsed": false,
       "command": "%sql WITH q AS (SELECT hotel_name , COUNT(*) as cancellation_count FROM bigdata.default.hoteldata\nWHERE status = 'Cancelled' GROUP BY hotel_name ORDER BY cancellation_count DESC) SELECT `hotel_name`,SUM(`cancellation_count`) `column_5151b166121` FROM q GROUP BY `hotel_name`",
       "commandTitle": "Visualization 1",
       "commandType": "auto",
       "commandVersion": 0,
       "commentThread": [],
       "commentsVisible": false,
       "contentSha256Hex": null,
       "customPlotOptions": {
        "redashChart": [
         {
          "key": "type",
          "value": "CHART"
         },
         {
          "key": "options",
          "value": {
           "alignYAxesAtZero": true,
           "coefficient": 1,
           "columnConfigurationMap": {
            "x": {
             "column": "hotel_name",
             "id": "column_5151b166120"
            },
            "y": [
             {
              "column": "cancellation_count",
              "id": "column_5151b166121",
              "transform": "SUM"
             }
            ]
           },
           "dateTimeFormat": "DD/MM/YYYY HH:mm",
           "direction": {
            "type": "counterclockwise"
           },
           "error_y": {
            "type": "data",
            "visible": true
           },
           "globalSeriesType": "pie",
           "isAggregationOn": true,
           "legend": {
            "traceorder": "normal"
           },
           "missingValuesAsZero": true,
           "numberFormat": "0,0.[00000]",
           "percentFormat": "0[.]00%",
           "series": {
            "error_y": {
             "type": "data",
             "visible": true
            },
            "stacking": null
           },
           "seriesOptions": {
            "cancellation_count": {
             "name": "cancellation_count",
             "type": "pie",
             "yAxis": 0
            },
            "column_5151b166121": {
             "name": "cancellation_count",
             "type": "pie",
             "yAxis": 0
            }
           },
           "showDataLabels": true,
           "sizemode": "diameter",
           "sortX": true,
           "sortY": true,
           "swappedAxes": false,
           "textFormat": "",
           "useAggregationsUi": true,
           "valuesOptions": {},
           "version": 2,
           "xAxis": {
            "labels": {
             "enabled": true
            },
            "type": "-"
           },
           "yAxis": [
            {
             "type": "-"
            },
            {
             "opposite": true,
             "type": "-"
            }
           ]
          }
         }
        ]
       },
       "datasetPreviewNameToCmdIdMap": {},
       "diffDeletes": [],
       "diffInserts": [],
       "displayType": "redashChart",
       "error": null,
       "errorDetails": null,
       "errorSummary": null,
       "errorTraceType": null,
       "finishTime": 0,
       "globalVars": {},
       "guid": "",
       "height": "auto",
       "hideCommandCode": false,
       "hideCommandResult": false,
       "iPythonMetadata": null,
       "inputWidgets": {},
       "isLockedInExamMode": false,
       "latestUser": "a user",
       "latestUserId": null,
       "listResultMetadata": null,
       "metadata": {},
       "nuid": "0ed088a7-64ac-426e-80ed-3b8d7c25a6d6",
       "origId": 0,
       "parentHierarchy": [],
       "pivotAggregation": null,
       "pivotColumns": null,
       "position": 8.0,
       "resultDbfsErrorMessage": null,
       "resultDbfsStatus": "INLINED_IN_TREE",
       "results": null,
       "showCommandTitle": false,
       "startTime": 0,
       "state": "input",
       "streamStates": {},
       "subcommandOptions": {
        "queryPlan": {
         "groups": [
          {
           "column": "hotel_name",
           "type": "column"
          }
         ],
         "selects": [
          {
           "column": "hotel_name",
           "type": "column"
          },
          {
           "alias": "column_5151b166121",
           "args": [
            {
             "column": "cancellation_count",
             "type": "column"
            }
           ],
           "function": "SUM",
           "type": "function"
          }
         ]
        }
       },
       "submitTime": 0,
       "subtype": "tableResultSubCmd.visualization",
       "tableResultIndex": 0,
       "tableResultSettingsMap": {},
       "useConsistentColors": false,
       "version": "CommandV1",
       "width": "auto",
       "workflows": [],
       "xColumns": null,
       "yColumns": null
      }
     },
     "output_type": "display_data"
    }
   ],
   "source": [
    "%sql\n",
    "SELECT hotel_name , COUNT(*) as cancellation_count FROM bigdata.default.hoteldata\n",
    "WHERE status = 'Cancelled' GROUP BY hotel_name ORDER BY cancellation_count DESC;"
   ]
  },
  {
   "cell_type": "markdown",
   "metadata": {
    "application/vnd.databricks.v1+cell": {
     "cellMetadata": {},
     "inputWidgets": {},
     "nuid": "b5f64882-7c43-45a3-b4e8-c2dbee5b38da",
     "showTitle": false,
     "tableResultSettingsMap": {},
     "title": ""
    }
   },
   "source": [
    "# 2. Find Seasonal Trends- Group bookings by month and location and calculate total revenue"
   ]
  },
  {
   "cell_type": "code",
   "execution_count": 0,
   "metadata": {
    "application/vnd.databricks.v1+cell": {
     "cellMetadata": {
      "byteLimit": 2048000,
      "implicitDf": true,
      "rowLimit": 10000
     },
     "inputWidgets": {},
     "nuid": "5783c43b-585c-4f75-9446-3b8ce74e9f50",
     "showTitle": false,
     "tableResultSettingsMap": {},
     "title": ""
    }
   },
   "outputs": [
    {
     "output_type": "display_data",
     "data": {
      "text/html": [
       "<style scoped>\n",
       "  .table-result-container {\n",
       "    max-height: 300px;\n",
       "    overflow: auto;\n",
       "  }\n",
       "  table, th, td {\n",
       "    border: 1px solid black;\n",
       "    border-collapse: collapse;\n",
       "  }\n",
       "  th, td {\n",
       "    padding: 5px;\n",
       "  }\n",
       "  th {\n",
       "    text-align: left;\n",
       "  }\n",
       "</style><div class='table-result-container'><table class='table-result'><thead style='background-color: white'><tr><th>month</th><th>location</th><th>total_bookings</th><th>total_revenue</th></tr></thead><tbody><tr><td>2025-01</td><td>Bandra</td><td>2</td><td>17500</td></tr><tr><td>2025-01</td><td>Banjara</td><td>2</td><td>10500</td></tr><tr><td>2025-01</td><td>Connaught</td><td>3</td><td>47000</td></tr><tr><td>2025-01</td><td>Hitech</td><td>2</td><td>21300</td></tr><tr><td>2025-01</td><td>Juhu</td><td>3</td><td>27700</td></tr><tr><td>2025-01</td><td>Karol Bagh</td><td>3</td><td>13500</td></tr><tr><td>2025-01</td><td>MG Road</td><td>3</td><td>29500</td></tr><tr><td>2025-01</td><td>Whitefield</td><td>2</td><td>34000</td></tr></tbody></table></div>"
      ]
     },
     "metadata": {
      "application/vnd.databricks.v1+output": {
       "addedWidgets": {},
       "aggData": [],
       "aggError": "",
       "aggOverflow": false,
       "aggSchema": [],
       "aggSeriesLimitReached": false,
       "aggType": "",
       "arguments": {},
       "columnCustomDisplayInfos": {},
       "data": [
        [
         "2025-01",
         "Bandra",
         2,
         17500
        ],
        [
         "2025-01",
         "Banjara",
         2,
         10500
        ],
        [
         "2025-01",
         "Connaught",
         3,
         47000
        ],
        [
         "2025-01",
         "Hitech",
         2,
         21300
        ],
        [
         "2025-01",
         "Juhu",
         3,
         27700
        ],
        [
         "2025-01",
         "Karol Bagh",
         3,
         13500
        ],
        [
         "2025-01",
         "MG Road",
         3,
         29500
        ],
        [
         "2025-01",
         "Whitefield",
         2,
         34000
        ]
       ],
       "datasetInfos": [
        {
         "name": "_sqldf",
         "schema": {
          "fields": [
           {
            "metadata": {},
            "name": "month",
            "nullable": true,
            "type": "string"
           },
           {
            "metadata": {},
            "name": "location",
            "nullable": true,
            "type": "string"
           },
           {
            "metadata": {},
            "name": "total_bookings",
            "nullable": false,
            "type": "long"
           },
           {
            "metadata": {},
            "name": "total_revenue",
            "nullable": true,
            "type": "long"
           }
          ],
          "type": "struct"
         },
         "tableIdentifier": null,
         "typeStr": "pyspark.sql.connect.dataframe.DataFrame"
        }
       ],
       "dbfsResultPath": null,
       "isJsonSchema": true,
       "metadata": {
        "createTempViewForImplicitDf": true,
        "dataframeName": "_sqldf",
        "executionCount": 51
       },
       "overflow": false,
       "plotOptions": {
        "customPlotOptions": {},
        "displayType": "table",
        "pivotAggregation": null,
        "pivotColumns": null,
        "xColumns": null,
        "yColumns": null
       },
       "removedWidgets": [],
       "schema": [
        {
         "metadata": "{}",
         "name": "month",
         "type": "\"string\""
        },
        {
         "metadata": "{}",
         "name": "location",
         "type": "\"string\""
        },
        {
         "metadata": "{}",
         "name": "total_bookings",
         "type": "\"long\""
        },
        {
         "metadata": "{}",
         "name": "total_revenue",
         "type": "\"long\""
        }
       ],
       "type": "table"
      }
     },
     "output_type": "display_data"
    },
    {
     "output_type": "display_data",
     "data": {
      "text/plain": [
       "Databricks visualization. Run in Databricks to view."
      ]
     },
     "metadata": {
      "application/vnd.databricks.v1.subcommand+json": {
       "baseErrorDetails": null,
       "bindings": {},
       "collapsed": false,
       "command": "%sql WITH q AS (SELECT \n    DATE_FORMAT(booking_date, 'yyyy-MM') AS month, \n    location, \n    COUNT(*) AS total_bookings, \n    SUM(amount_spent) AS total_revenue \nFROM \n    bigdata.default.hoteldata \nGROUP BY \n    DATE_FORMAT(booking_date, 'yyyy-MM'), \n    location \nORDER BY \n    month, \n    location) SELECT `location`,SUM(`total_revenue`) `column_5151b166134` FROM q GROUP BY `location`",
       "commandTitle": "Visualization 2",
       "commandType": "auto",
       "commandVersion": 0,
       "commentThread": [],
       "commentsVisible": false,
       "contentSha256Hex": null,
       "customPlotOptions": {
        "redashChart": [
         {
          "key": "type",
          "value": "CHART"
         },
         {
          "key": "options",
          "value": {
           "alignYAxesAtZero": true,
           "coefficient": 1,
           "columnConfigurationMap": {
            "x": {
             "column": "location",
             "id": "column_5151b166129"
            },
            "y": [
             {
              "column": "total_revenue",
              "id": "column_5151b166134",
              "transform": "SUM"
             }
            ]
           },
           "dateTimeFormat": "DD/MM/YYYY HH:mm",
           "direction": {
            "type": "counterclockwise"
           },
           "error_y": {
            "type": "data",
            "visible": true
           },
           "globalSeriesType": "column",
           "isAggregationOn": true,
           "legend": {
            "traceorder": "normal"
           },
           "missingValuesAsZero": true,
           "numberFormat": "0,0.[00000]",
           "percentFormat": "0[.]00%",
           "series": {
            "error_y": {
             "type": "data",
             "visible": true
            },
            "stacking": null
           },
           "seriesOptions": {
            "column_5151b166131": {
             "type": "column",
             "yAxis": 0
            },
            "column_5151b166134": {
             "type": "column",
             "yAxis": 0
            }
           },
           "showDataLabels": false,
           "sizemode": "diameter",
           "sortX": true,
           "sortY": true,
           "swappedAxes": false,
           "textFormat": "",
           "useAggregationsUi": true,
           "valuesOptions": {},
           "version": 2,
           "xAxis": {
            "labels": {
             "enabled": true
            },
            "type": "-"
           },
           "yAxis": [
            {
             "type": "-"
            },
            {
             "opposite": true,
             "type": "-"
            }
           ]
          }
         }
        ]
       },
       "datasetPreviewNameToCmdIdMap": {},
       "diffDeletes": [],
       "diffInserts": [],
       "displayType": "redashChart",
       "error": null,
       "errorDetails": null,
       "errorSummary": null,
       "errorTraceType": null,
       "finishTime": 0,
       "globalVars": {},
       "guid": "",
       "height": "auto",
       "hideCommandCode": false,
       "hideCommandResult": false,
       "iPythonMetadata": null,
       "inputWidgets": {},
       "isLockedInExamMode": false,
       "latestUser": "a user",
       "latestUserId": null,
       "listResultMetadata": null,
       "metadata": {},
       "nuid": "39ec853d-163b-4b8e-8f65-06f4c07e7aa3",
       "origId": 0,
       "parentHierarchy": [],
       "pivotAggregation": null,
       "pivotColumns": null,
       "position": 10.0,
       "resultDbfsErrorMessage": null,
       "resultDbfsStatus": "INLINED_IN_TREE",
       "results": null,
       "showCommandTitle": false,
       "startTime": 0,
       "state": "input",
       "streamStates": {},
       "subcommandOptions": {
        "queryPlan": {
         "groups": [
          {
           "column": "location",
           "type": "column"
          }
         ],
         "selects": [
          {
           "column": "location",
           "type": "column"
          },
          {
           "alias": "column_5151b166134",
           "args": [
            {
             "column": "total_revenue",
             "type": "column"
            }
           ],
           "function": "SUM",
           "type": "function"
          }
         ]
        }
       },
       "submitTime": 0,
       "subtype": "tableResultSubCmd.visualization",
       "tableResultIndex": 0,
       "tableResultSettingsMap": {},
       "useConsistentColors": false,
       "version": "CommandV1",
       "width": "auto",
       "workflows": [],
       "xColumns": null,
       "yColumns": null
      }
     },
     "output_type": "display_data"
    }
   ],
   "source": [
    "%sql\n",
    "SELECT \n",
    "    DATE_FORMAT(booking_date, 'yyyy-MM') AS month, \n",
    "    location, \n",
    "    COUNT(*) AS total_bookings, \n",
    "    SUM(amount_spent) AS total_revenue \n",
    "FROM \n",
    "    bigdata.default.hoteldata \n",
    "GROUP BY \n",
    "    DATE_FORMAT(booking_date, 'yyyy-MM'), \n",
    "    location \n",
    "ORDER BY \n",
    "    month, \n",
    "    location;"
   ]
  },
  {
   "cell_type": "code",
   "execution_count": 0,
   "metadata": {
    "application/vnd.databricks.v1+cell": {
     "cellMetadata": {
      "byteLimit": 2048000,
      "implicitDf": true,
      "rowLimit": 10000
     },
     "inputWidgets": {},
     "nuid": "1951c5de-43ec-476c-aef0-4bad633c7f93",
     "showTitle": false,
     "tableResultSettingsMap": {},
     "title": ""
    }
   },
   "outputs": [
    {
     "output_type": "display_data",
     "data": {
      "text/html": [
       "<style scoped>\n",
       "  .table-result-container {\n",
       "    max-height: 300px;\n",
       "    overflow: auto;\n",
       "  }\n",
       "  table, th, td {\n",
       "    border: 1px solid black;\n",
       "    border-collapse: collapse;\n",
       "  }\n",
       "  th, td {\n",
       "    padding: 5px;\n",
       "  }\n",
       "  th {\n",
       "    text-align: left;\n",
       "  }\n",
       "</style><div class='table-result-container'><table class='table-result'><thead style='background-color: white'><tr><th>month</th><th>location</th><th>total_bookings</th><th>total_revenue</th></tr></thead><tbody><tr><td>2025-01</td><td>Bandra</td><td>2</td><td>17500</td></tr><tr><td>2025-01</td><td>Banjara</td><td>2</td><td>10500</td></tr><tr><td>2025-01</td><td>Connaught</td><td>3</td><td>47000</td></tr><tr><td>2025-01</td><td>Hitech</td><td>2</td><td>21300</td></tr><tr><td>2025-01</td><td>Juhu</td><td>3</td><td>27700</td></tr><tr><td>2025-01</td><td>Karol Bagh</td><td>3</td><td>13500</td></tr><tr><td>2025-01</td><td>MG Road</td><td>3</td><td>29500</td></tr><tr><td>2025-01</td><td>Whitefield</td><td>2</td><td>34000</td></tr></tbody></table></div>"
      ]
     },
     "metadata": {
      "application/vnd.databricks.v1+output": {
       "addedWidgets": {},
       "aggData": [],
       "aggError": "",
       "aggOverflow": false,
       "aggSchema": [],
       "aggSeriesLimitReached": false,
       "aggType": "",
       "arguments": {},
       "columnCustomDisplayInfos": {},
       "data": [
        [
         "2025-01",
         "Bandra",
         2,
         17500
        ],
        [
         "2025-01",
         "Banjara",
         2,
         10500
        ],
        [
         "2025-01",
         "Connaught",
         3,
         47000
        ],
        [
         "2025-01",
         "Hitech",
         2,
         21300
        ],
        [
         "2025-01",
         "Juhu",
         3,
         27700
        ],
        [
         "2025-01",
         "Karol Bagh",
         3,
         13500
        ],
        [
         "2025-01",
         "MG Road",
         3,
         29500
        ],
        [
         "2025-01",
         "Whitefield",
         2,
         34000
        ]
       ],
       "datasetInfos": [
        {
         "name": "_sqldf",
         "schema": {
          "fields": [
           {
            "metadata": {},
            "name": "month",
            "nullable": true,
            "type": "string"
           },
           {
            "metadata": {},
            "name": "location",
            "nullable": true,
            "type": "string"
           },
           {
            "metadata": {},
            "name": "total_bookings",
            "nullable": false,
            "type": "long"
           },
           {
            "metadata": {},
            "name": "total_revenue",
            "nullable": true,
            "type": "long"
           }
          ],
          "type": "struct"
         },
         "tableIdentifier": null,
         "typeStr": "pyspark.sql.connect.dataframe.DataFrame"
        }
       ],
       "dbfsResultPath": null,
       "isJsonSchema": true,
       "metadata": {
        "createTempViewForImplicitDf": true,
        "dataframeName": "_sqldf",
        "executionCount": 72
       },
       "overflow": false,
       "plotOptions": {
        "customPlotOptions": {},
        "displayType": "table",
        "pivotAggregation": null,
        "pivotColumns": null,
        "xColumns": null,
        "yColumns": null
       },
       "removedWidgets": [],
       "schema": [
        {
         "metadata": "{}",
         "name": "month",
         "type": "\"string\""
        },
        {
         "metadata": "{}",
         "name": "location",
         "type": "\"string\""
        },
        {
         "metadata": "{}",
         "name": "total_bookings",
         "type": "\"long\""
        },
        {
         "metadata": "{}",
         "name": "total_revenue",
         "type": "\"long\""
        }
       ],
       "type": "table"
      }
     },
     "output_type": "display_data"
    },
    {
     "output_type": "display_data",
     "data": {
      "text/plain": [
       "Databricks visualization. Run in Databricks to view."
      ]
     },
     "metadata": {
      "application/vnd.databricks.v1.subcommand+json": {
       "baseErrorDetails": null,
       "bindings": {},
       "collapsed": false,
       "command": "%python\n__backend_agg_display_orig = display\n__backend_agg_dfs = []\ndef __backend_agg_display_new(df):\n    __backend_agg_df_modules = [\"pandas.core.frame\", \"databricks.koalas.frame\", \"pyspark.sql.dataframe\", \"pyspark.pandas.frame\", \"pyspark.sql.connect.dataframe\"]\n    if (type(df).__module__ in __backend_agg_df_modules and type(df).__name__ == 'DataFrame') or isinstance(df, list):\n        __backend_agg_dfs.append(df)\n\ndisplay = __backend_agg_display_new\n\ndef __backend_agg_user_code_fn():\n    import base64\n    exec(base64.standard_b64decode(\"\").decode())\n\ntry:\n    # run user code\n    __backend_agg_user_code_fn()\n\n    #reset display function\n    display = __backend_agg_display_orig\n\n    if len(__backend_agg_dfs) > 0:\n        # create a temp view\n        if type(__backend_agg_dfs[0]).__module__ == \"databricks.koalas.frame\":\n            # koalas dataframe\n            __backend_agg_dfs[0].to_spark().createOrReplaceTempView(\"DatabricksViewa0aa40c\")\n        elif type(__backend_agg_dfs[0]).__module__ == \"pandas.core.frame\" or isinstance(__backend_agg_dfs[0], list):\n            # pandas dataframe\n            spark.createDataFrame(__backend_agg_dfs[0]).createOrReplaceTempView(\"DatabricksViewa0aa40c\")\n        else:\n            __backend_agg_dfs[0].createOrReplaceTempView(\"DatabricksViewa0aa40c\")\n        #run backend agg\n        display(spark.sql(\"\"\"WITH q AS (select * from DatabricksViewa0aa40c) SELECT `location`,SUM(`total_revenue`) `column_5151b166143` FROM q GROUP BY `location`\"\"\"))\n    else:\n        displayHTML(\"dataframe no longer exists. If you're using dataframe.display(), use display(dataframe) instead.\")\n\n\nfinally:\n    spark.sql(\"drop view if exists DatabricksViewa0aa40c\")\n    display = __backend_agg_display_orig\n    del __backend_agg_display_new\n    del __backend_agg_display_orig\n    del __backend_agg_dfs\n    del __backend_agg_user_code_fn\n\n",
       "commandTitle": "Visualization 1",
       "commandType": "auto",
       "commandVersion": 0,
       "commentThread": [],
       "commentsVisible": false,
       "contentSha256Hex": null,
       "customPlotOptions": {
        "redashChart": [
         {
          "key": "type",
          "value": "CHART"
         },
         {
          "key": "options",
          "value": {
           "alignYAxesAtZero": true,
           "coefficient": 1,
           "columnConfigurationMap": {
            "x": {
             "column": "location",
             "id": "column_5151b166138"
            },
            "y": [
             {
              "column": "total_revenue",
              "id": "column_5151b166143",
              "transform": "SUM"
             }
            ]
           },
           "dateTimeFormat": "DD/MM/YYYY HH:mm",
           "direction": {
            "type": "counterclockwise"
           },
           "error_y": {
            "type": "data",
            "visible": true
           },
           "globalSeriesType": "combo",
           "isAggregationOn": true,
           "legend": {
            "traceorder": "normal"
           },
           "missingValuesAsZero": true,
           "numberFormat": "0,0.[00000]",
           "percentFormat": "0[.]00%",
           "series": {
            "error_y": {
             "type": "data",
             "visible": true
            },
            "stacking": null
           },
           "seriesOptions": {
            "column_5151b166142": {
             "type": "line",
             "yAxis": 0
            },
            "column_5151b166143": {
             "type": "column",
             "yAxis": 0
            },
            "total_revenue": {
             "type": "line",
             "yAxis": 0
            }
           },
           "showDataLabels": false,
           "sizemode": "diameter",
           "sortX": true,
           "sortY": true,
           "swappedAxes": false,
           "textFormat": "",
           "useAggregationsUi": true,
           "valuesOptions": {},
           "version": 2,
           "xAxis": {
            "labels": {
             "enabled": true
            },
            "type": "-"
           },
           "yAxis": [
            {
             "type": "-"
            },
            {
             "opposite": true,
             "type": "-"
            }
           ]
          }
         }
        ]
       },
       "datasetPreviewNameToCmdIdMap": {},
       "diffDeletes": [],
       "diffInserts": [],
       "displayType": "redashChart",
       "error": null,
       "errorDetails": null,
       "errorSummary": null,
       "errorTraceType": null,
       "finishTime": 0,
       "globalVars": {},
       "guid": "",
       "height": "auto",
       "hideCommandCode": false,
       "hideCommandResult": false,
       "iPythonMetadata": null,
       "inputWidgets": {},
       "isLockedInExamMode": false,
       "latestUser": "a user",
       "latestUserId": null,
       "listResultMetadata": null,
       "metadata": {},
       "nuid": "fb745923-be84-4138-8a8d-9084158ebd62",
       "origId": 0,
       "parentHierarchy": [],
       "pivotAggregation": null,
       "pivotColumns": null,
       "position": 10.0,
       "resultDbfsErrorMessage": null,
       "resultDbfsStatus": "INLINED_IN_TREE",
       "results": null,
       "showCommandTitle": false,
       "startTime": 0,
       "state": "input",
       "streamStates": {},
       "subcommandOptions": {
        "queryPlan": {
         "groups": [
          {
           "column": "location",
           "type": "column"
          }
         ],
         "selects": [
          {
           "column": "location",
           "type": "column"
          },
          {
           "alias": "column_5151b166143",
           "args": [
            {
             "column": "total_revenue",
             "type": "column"
            }
           ],
           "function": "SUM",
           "type": "function"
          }
         ]
        }
       },
       "submitTime": 0,
       "subtype": "tableResultSubCmd.visualization",
       "tableResultIndex": 0,
       "tableResultSettingsMap": {},
       "useConsistentColors": false,
       "version": "CommandV1",
       "width": "auto",
       "workflows": [],
       "xColumns": null,
       "yColumns": null
      }
     },
     "output_type": "display_data"
    }
   ],
   "source": []
  },
  {
   "cell_type": "code",
   "execution_count": 0,
   "metadata": {
    "application/vnd.databricks.v1+cell": {
     "cellMetadata": {},
     "inputWidgets": {},
     "nuid": "73c4f3de-09dc-4f8c-9a4c-05e08eff86af",
     "showTitle": false,
     "tableResultSettingsMap": {},
     "title": ""
    }
   },
   "outputs": [],
   "source": []
  }
 ],
 "metadata": {
  "application/vnd.databricks.v1+notebook": {
   "computePreferences": null,
   "dashboards": [
    {
     "elements": [
      {
       "dashboardResultIndex": null,
       "elementNUID": "d2597ea1-5b2e-49cc-a689-c65ac2d65070",
       "elementType": "command",
       "guid": "67172819-a59f-43b3-a8b2-d058829a7e98",
       "options": null,
       "position": {
        "height": 6,
        "width": 12,
        "x": 0,
        "y": 0,
        "z": null
       },
       "resultIndex": null
      },
      {
       "dashboardResultIndex": null,
       "elementNUID": "30dbd03a-81a8-4758-a494-c25a7ce5b3c8",
       "elementType": "command",
       "guid": "69a6ffac-79d9-471d-b1a2-044cda280dd9",
       "options": null,
       "position": {
        "height": 6,
        "width": 12,
        "x": 0,
        "y": 12,
        "z": null
       },
       "resultIndex": null
      },
      {
       "dashboardResultIndex": null,
       "elementNUID": "39ec853d-163b-4b8e-8f65-06f4c07e7aa3",
       "elementType": "command",
       "guid": "abf37baa-cdad-4f48-8dce-fff1292be40c",
       "options": null,
       "position": {
        "height": 6,
        "width": 12,
        "x": 0,
        "y": 6,
        "z": null
       },
       "resultIndex": null
      },
      {
       "dashboardResultIndex": null,
       "elementNUID": "fb745923-be84-4138-8a8d-9084158ebd62",
       "elementType": "command",
       "guid": "f0bf5f85-2fee-4a86-b693-772d114ab915",
       "options": null,
       "position": {
        "height": 6,
        "width": 12,
        "x": 12,
        "y": 0,
        "z": null
       },
       "resultIndex": null
      },
      {
       "dashboardResultIndex": null,
       "elementNUID": "0ed088a7-64ac-426e-80ed-3b8d7c25a6d6",
       "elementType": "command",
       "guid": "fb131ec8-d640-4196-8219-e26a7966d106",
       "options": null,
       "position": {
        "height": 6,
        "width": 12,
        "x": 12,
        "y": 6,
        "z": null
       },
       "resultIndex": null
      }
     ],
     "globalVars": {},
     "guid": "",
     "layoutOption": {
      "grid": true,
      "stack": true
     },
     "nuid": "c0c83dd8-da6a-450a-9f34-b04bee7facc2",
     "origId": 7156101269247306,
     "title": "dashboard",
     "version": "DashboardViewV1",
     "width": 1024
    }
   ],
   "environmentMetadata": {
    "base_environment": "",
    "environment_version": "3"
   },
   "inputWidgetPreferences": null,
   "language": "python",
   "notebookMetadata": {
    "mostRecentlyExecutedCommandWithImplicitDF": {
     "commandId": 7156101269247277,
     "dataframes": [
      "_sqldf"
     ]
    },
    "pythonIndentUnit": 4
   },
   "notebookName": "UsedCase",
   "widgets": {}
  },
  "language_info": {
   "name": "python"
  }
 },
 "nbformat": 4,
 "nbformat_minor": 0
}